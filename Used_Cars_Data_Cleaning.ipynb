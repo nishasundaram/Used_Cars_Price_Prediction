{
 "cells": [
  {
   "cell_type": "markdown",
   "id": "0e0dd03b-caaf-49f9-aa6d-1167c9cf4882",
   "metadata": {},
   "source": [
    "##### Author: Nisha Sundaram"
   ]
  },
  {
   "cell_type": "markdown",
   "id": "63bc8e05-ccc7-4ed5-8eb3-d7d0d67a1bfc",
   "metadata": {},
   "source": [
    "# Data Cleaning"
   ]
  },
  {
   "cell_type": "code",
   "execution_count": null,
   "id": "1aef25f5-aaa7-4f76-9a67-47dddd868fed",
   "metadata": {},
   "outputs": [],
   "source": [
    "# importing the necessary libraries\n",
    "\n",
    "import pandas as pd\n",
    "import numpy as np\n",
    "import glob\n",
    "\n",
    "# path to store the file\n",
    "\n",
    "path = r'C:\\Users\\Nisha\\Code\\Final_project\\data_first_fetch'\n",
    "all_files = glob.glob(path + \"/*.csv\")\n",
    "\n",
    "li = []\n",
    "\n",
    "for filename in all_files:\n",
    "    df = pd.read_csv(filename, sep= \";\", index_col=None, header=0, error_bad_lines=False, engine ='python')\n",
    "    li.append(df)\n",
    "\n",
    "cars = pd.concat(li, axis=0, ignore_index=True)\n"
   ]
  },
  {
   "cell_type": "code",
   "execution_count": null,
   "id": "9b918d39-a48b-4ea4-9de8-cc9a2ddd9953",
   "metadata": {},
   "outputs": [],
   "source": [
    "# to know the available columns\n",
    "cars.columns"
   ]
  },
  {
   "cell_type": "code",
   "execution_count": null,
   "id": "c1f78e53-5c96-4fcc-bdec-8289c40cecc3",
   "metadata": {},
   "outputs": [],
   "source": [
    "# looking for the data types, null values\n",
    "cars.info()"
   ]
  },
  {
   "cell_type": "code",
   "execution_count": 5,
   "id": "39c0aca9-66a9-4b46-800f-9e0db34014ba",
   "metadata": {},
   "outputs": [],
   "source": [
    "# dropping the columns that i feel not required for my project\n",
    "cars = cars.drop(['url','date','Komfort','Unterhaltung/Media','Sicherheit','Extras', 'Gänge', 'Zylinder','Anzahlung','Überführungskosten','Zulassungskosten','Gesamt, einmalig', 'Leergewicht', 'Vertragsart','Laufzeit','Monatliche Rate','Mehr-km Kosten','Minder-km Vergütung','Effektiver Jahreszins','Sollzins geb. p.a.','Nettodarlehen','Schlussrate','Fahrleistung p.a.','Länderversion','Angebotsnummer','Andere Energieträger','Stromverbrauch2','CO₂-Effizienz','Umweltplakette','Farbe der Innenausstattung','Innenausstattung','Leasinggesamtbetrag','Leasingfaktor','Schlüsselnummer','Garantie','HU','Scheckheftgepflegt','Farbe laut Hersteller','Verfügbar ab','Bruttodarlehensbetrag','Bearbeitungsgebühren','Barzahlungspreis','Nichtraucherfahrzeug','Lackierung','Haftpflicht','Teilkasko','Vollkasko','Antriebsart','Sonderzahlung','Taxi oder Mietwagen','Nettodarlehensbetrag','Sollzinssatz','Erste Rate','Folgeraten','Letzte Inspektion','Verfügbarkeit','Radstand','Nutzlast','zul. Gesamtgewicht','Laderaumhöhe','Laderaumbreite','Laderaumlänge','Ladevolumen','Letzter Zahnriemenwechsel','zul. Zuggewicht','Pkw Zulassung','Energieeffizienzklasse','Achsen','Schadstoffklasse'], axis=1)"
   ]
  },
  {
   "cell_type": "code",
   "execution_count": 7,
   "id": "91ce7bd9-064e-4581-bc84-3319e8d42b8e",
   "metadata": {},
   "outputs": [
    {
     "data": {
      "text/plain": [
       "Index(['car_brand', 'Karosserieform', 'Zustand', 'Sitzplätze', 'Türen',\n",
       "       'Kilometerstand', 'Erstzulassung', 'Leistung', 'Getriebe', 'Hubraum',\n",
       "       'Kraftstoff', 'Kraftstoffverbrauch2', 'Außenfarbe', 'verkaeufer',\n",
       "       'brand', 'model', 'model_details', 'price', 'Baujahr', 'Fahrzeughalter',\n",
       "       'CO₂-Emissionen2'],\n",
       "      dtype='object')"
      ]
     },
     "execution_count": 7,
     "metadata": {},
     "output_type": "execute_result"
    }
   ],
   "source": [
    "# this was updated after analysing the Heatmap: included the column 'CO₂-Emissionen2' \n",
    "cars.columns"
   ]
  },
  {
   "cell_type": "code",
   "execution_count": 8,
   "id": "f4056fc5-93ff-42c1-b2b9-85c7f4097b66",
   "metadata": {},
   "outputs": [],
   "source": [
    "# translating and renaming the columns\n",
    "cars.rename(columns = {'car_brand':'car_brand','Karosserieform':'body_type','Zustand':'condition', 'Sitzplätze':'num_seats', 'Türen':'num_doors','Kilometerstand':'mileage', 'Erstzulassung':'first_reg', 'Leistung':'power_kW', 'Getriebe':'transmission', 'Hubraum':'displacement', 'Kraftstoff':'fuel', 'Kraftstoffverbrauch2':'fuel_eff','Außenfarbe':'color', 'CO₂-Emissionen2': 'co2_emission_gpkm','verkaeufer':'seller','brand':'brand', 'model':'model', 'model_details':'model_details', 'price':'price', 'Baujahr':'year_built', 'Fahrzeughalter':'num_owners'}, inplace = True)"
   ]
  },
  {
   "cell_type": "code",
   "execution_count": 9,
   "id": "1d52cc7b-71f4-4ff6-9455-48c7f7d59834",
   "metadata": {},
   "outputs": [
    {
     "data": {
      "text/plain": [
       "Index(['car_brand', 'body_type', 'condition', 'num_seats', 'num_doors',\n",
       "       'mileage', 'first_reg', 'power_kW', 'transmission', 'displacement',\n",
       "       'fuel', 'fuel_eff', 'color', 'seller', 'brand', 'model',\n",
       "       'model_details', 'price', 'year_built', 'num_owners',\n",
       "       'co2_emission_gpkm'],\n",
       "      dtype='object')"
      ]
     },
     "execution_count": 9,
     "metadata": {},
     "output_type": "execute_result"
    }
   ],
   "source": [
    "cars.columns"
   ]
  },
  {
   "cell_type": "code",
   "execution_count": 11,
   "id": "969bf029-2be8-4112-801b-68b7384fd201",
   "metadata": {},
   "outputs": [
    {
     "data": {
      "text/plain": [
       "(19336, 21)"
      ]
     },
     "execution_count": 11,
     "metadata": {},
     "output_type": "execute_result"
    }
   ],
   "source": [
    "# to know the number of available rows and columns\n",
    "cars.shape"
   ]
  },
  {
   "cell_type": "code",
   "execution_count": 12,
   "id": "b9e22707-e20a-41f4-9e2c-71139116155f",
   "metadata": {},
   "outputs": [],
   "source": [
    "# dropping the columns that are duplicated\n",
    "cars = cars.drop_duplicates()"
   ]
  },
  {
   "cell_type": "code",
   "execution_count": 13,
   "id": "d74db6c0-c8f0-413e-b8c2-120f2a30896c",
   "metadata": {},
   "outputs": [
    {
     "data": {
      "text/plain": [
       "car_brand            object\n",
       "body_type            object\n",
       "condition            object\n",
       "num_seats             int32\n",
       "num_doors             int32\n",
       "mileage              object\n",
       "first_reg            object\n",
       "power_kW             object\n",
       "transmission         object\n",
       "displacement         object\n",
       "fuel                 object\n",
       "fuel_eff             object\n",
       "color                object\n",
       "seller               object\n",
       "brand                object\n",
       "model                object\n",
       "model_details        object\n",
       "price                 int64\n",
       "year_built            int32\n",
       "num_owners            int32\n",
       "co2_emission_gpkm    object\n",
       "dtype: object"
      ]
     },
     "execution_count": 13,
     "metadata": {},
     "output_type": "execute_result"
    }
   ],
   "source": [
    "# replacing the blank spaces with zeros \n",
    "# changing the datatypes to integers\n",
    "\n",
    "cars.num_owners = cars.num_owners.fillna(0).astype(int)\n",
    "cars.year_built = cars.year_built.fillna(0).astype(int)\n",
    "cars.num_doors  = cars.num_doors.fillna(0).astype(int)\n",
    "cars.num_seats  = cars.num_seats.fillna(0).astype(int)\n",
    "cars.dtypes"
   ]
  },
  {
   "cell_type": "code",
   "execution_count": 14,
   "id": "9d53ea25-1fa7-408c-aedc-177d2b41fb39",
   "metadata": {},
   "outputs": [
    {
     "data": {
      "text/plain": [
       "18764"
      ]
     },
     "execution_count": 14,
     "metadata": {},
     "output_type": "execute_result"
    }
   ],
   "source": [
    "# checking the car_brand column for any missing values\n",
    "\n",
    "cars.car_brand.isnull().value_counts()\n",
    "cars.car_brand.count()"
   ]
  },
  {
   "cell_type": "code",
   "execution_count": 15,
   "id": "5630bbe0-3360-4a8f-bcf7-17cfa6139bd7",
   "metadata": {},
   "outputs": [
    {
     "data": {
      "text/plain": [
       "18764"
      ]
     },
     "execution_count": 15,
     "metadata": {},
     "output_type": "execute_result"
    }
   ],
   "source": [
    "# checking the body_type column for any missing values\n",
    "# translating and replacing the names\n",
    "\n",
    "cars.body_type.isnull().value_counts()\n",
    "cars.body_type = cars.body_type.replace(['Kleinwagen', 'SUV/Geländewagen/Pickup', 'Coupé', 'Van/Kleinbus'], ['Smallcar', 'SUV', 'Coupe', 'Van'])\n",
    "cars.body_type.count()"
   ]
  },
  {
   "cell_type": "code",
   "execution_count": 16,
   "id": "49d41d10-b828-4cae-8da3-5a33d9417543",
   "metadata": {},
   "outputs": [
    {
     "data": {
      "text/plain": [
       "18764"
      ]
     },
     "execution_count": 16,
     "metadata": {},
     "output_type": "execute_result"
    }
   ],
   "source": [
    "# checking the num_seats column for any missing values\n",
    "# replacing the ones with 0 seats to 5 seats as a default value\n",
    "\n",
    "cars.num_seats.isna().value_counts()\n",
    "cars[cars.num_seats==0].count()\n",
    "cars.num_seats = cars.num_seats.replace(0, 5)\n",
    "cars.num_seats.count()\n",
    "#cars[cars.num_seats==0]"
   ]
  },
  {
   "cell_type": "code",
   "execution_count": 17,
   "id": "33ff6166-896d-4561-b39b-0e0836fe350f",
   "metadata": {},
   "outputs": [
    {
     "data": {
      "text/plain": [
       "18764"
      ]
     },
     "execution_count": 17,
     "metadata": {},
     "output_type": "execute_result"
    }
   ],
   "source": [
    "# checking the num_doors column for any missing values\n",
    "# replacing the ones with 0 doors to 4 doors as a default value\n",
    "\n",
    "cars.num_doors.isna().any()\n",
    "cars[cars.num_doors==0].count()\n",
    "cars.num_doors = cars.num_doors.replace(0, 4)\n",
    "cars.num_doors.count()\n",
    "#cars[cars.num_doors==0]"
   ]
  },
  {
   "cell_type": "code",
   "execution_count": 18,
   "id": "04227c7e-f6b1-422f-9680-4e7a4c30ba2f",
   "metadata": {},
   "outputs": [
    {
     "data": {
      "text/plain": [
       "18764"
      ]
     },
     "execution_count": 18,
     "metadata": {},
     "output_type": "execute_result"
    }
   ],
   "source": [
    "# converting mileage to datatype integer, by replacing the 'km' and '.' in the string\n",
    "\n",
    "cars.mileage=cars.mileage.str.replace('[km]','', regex=True)\n",
    "cars.mileage=cars.mileage.str.replace('\\.','', regex=True)\n",
    "cars.mileage=cars.mileage.fillna(0).astype(int)\n",
    "cars.mileage.count()"
   ]
  },
  {
   "cell_type": "code",
   "execution_count": 19,
   "id": "98556c17-81db-4eff-b7c4-d150584b33ee",
   "metadata": {},
   "outputs": [
    {
     "data": {
      "text/plain": [
       "18763"
      ]
     },
     "execution_count": 19,
     "metadata": {},
     "output_type": "execute_result"
    }
   ],
   "source": [
    "# checking the first_reg column\n",
    "\n",
    "cars.first_reg.value_counts()\n",
    "cars.drop(cars.loc[cars['first_reg']=='02/2022'].index, inplace=True)\n",
    "cars.first_reg.count()"
   ]
  },
  {
   "cell_type": "code",
   "execution_count": 20,
   "id": "3800a761-19d0-4946-b0b7-353aa930dc1e",
   "metadata": {},
   "outputs": [
    {
     "data": {
      "text/plain": [
       "18763"
      ]
     },
     "execution_count": 20,
     "metadata": {},
     "output_type": "execute_result"
    }
   ],
   "source": [
    "# converting power to data type int, by replacing the 'kW' and values inside the paranthesis in the string\n",
    "# filling the missing values with zeros.\n",
    "\n",
    "cars['power_kW']=cars['power_kW'].str.replace(r\"\\(.*\\)\",\"\", regex=True)\n",
    "cars['power_kW']=cars['power_kW'].str.replace('[kW]','', regex=True)\n",
    "cars['power_kW']=cars['power_kW'].fillna(0).astype(int)\n",
    "cars.dropna(subset=['power_kW'], inplace = True)\n",
    "cars.power_kW.count()"
   ]
  },
  {
   "cell_type": "code",
   "execution_count": null,
   "id": "0066cfbd-dc2a-4ced-b7ea-218c6187ab4d",
   "metadata": {},
   "outputs": [],
   "source": [
    "# checking for missing information in the transmission column\n",
    "# dropping the rows that are very less in count\n",
    "# translating and replacing the names\n",
    "\n",
    "#cars.transmission.isna().value_counts()\n",
    "cars.dropna(subset=['transmission'], inplace=True)\n",
    "cars.transmission=cars.transmission.replace(['Automatik', 'Schaltgetriebe', 'Halbautomatik'], ['Automatic', 'Manual', 'Semi-automatic'])\n",
    "cars.transmission.count()"
   ]
  },
  {
   "cell_type": "code",
   "execution_count": 21,
   "id": "280c11dd-b112-4464-b898-fde7464ad10c",
   "metadata": {},
   "outputs": [
    {
     "data": {
      "text/plain": [
       "0        1199.0\n",
       "1           1.0\n",
       "2           0.0\n",
       "6        1968.0\n",
       "7         999.0\n",
       "          ...  \n",
       "19327    1998.0\n",
       "19332     999.0\n",
       "19333     999.0\n",
       "19334    1995.0\n",
       "19335     999.0\n",
       "Name: displacement, Length: 18085, dtype: float64"
      ]
     },
     "execution_count": 21,
     "metadata": {},
     "output_type": "execute_result"
    }
   ],
   "source": [
    "#converting displacement to datatype float, by replacing the '[cm³]' and values inside the '.' in the string\n",
    "\n",
    "cars.dropna(subset=['displacement'], inplace=True)\n",
    "cars.displacement=cars.displacement.str.replace('\\.','', regex=True)\n",
    "cars.displacement=cars.displacement.astype(str).str.replace('[cm³]','', regex=True)\n",
    "\n",
    "cars.displacement=cars.displacement.replace('', 0)\n",
    "cars.displacement=cars.displacement.fillna(0).astype(float)\n",
    "#cars.displacement=cars.displacement.astype(int)\n",
    "\n",
    "cars.displacement"
   ]
  },
  {
   "cell_type": "code",
   "execution_count": 22,
   "id": "0c5a8d18-305a-4a19-abec-868dc1731623",
   "metadata": {},
   "outputs": [
    {
     "data": {
      "text/plain": [
       "17619"
      ]
     },
     "execution_count": 22,
     "metadata": {},
     "output_type": "execute_result"
    }
   ],
   "source": [
    "# checking for missing information in fuel column\n",
    "# dropping the rows that are very less in count\n",
    "\n",
    "cars.fuel.isna().value_counts()\n",
    "cars.dropna(subset=['fuel'], inplace=True)\n",
    "cars.fuel.count()"
   ]
  },
  {
   "cell_type": "code",
   "execution_count": 23,
   "id": "162f099f-3ad9-45f1-962c-b7fa28642806",
   "metadata": {},
   "outputs": [
    {
     "data": {
      "text/plain": [
       "17487"
      ]
     },
     "execution_count": 23,
     "metadata": {},
     "output_type": "execute_result"
    }
   ],
   "source": [
    "# checking for missing information in color column\n",
    "# dropping the rows that are very less in count\n",
    "# translating and replacing the names\n",
    "\n",
    "cars.color.isna().value_counts()\n",
    "cars.dropna(subset=['color'], inplace=True)\n",
    "cars.color=cars.color.replace(['Schwarz', 'Grau', 'Weiß', 'Blau', 'Rot', 'Orange', 'Grün', 'Silber', 'Braun', 'Gelb', 'Bronze', 'Gold', 'Violett', 'Beige'], ['Black', 'Grey', 'White', 'Blue', 'Red', 'Orange', 'Green', 'Silver', 'Brown', 'Yellow', 'Bronze', 'Gold', 'Purple', 'Beige' ])\n",
    "cars.color.count()"
   ]
  },
  {
   "cell_type": "code",
   "execution_count": 24,
   "id": "6e7f5ec7-d862-4d63-aa19-7fd401b666c6",
   "metadata": {},
   "outputs": [
    {
     "data": {
      "text/plain": [
       "17487"
      ]
     },
     "execution_count": 24,
     "metadata": {},
     "output_type": "execute_result"
    }
   ],
   "source": [
    "# checking how many types of sellers are available\n",
    "\n",
    "cars.seller.unique()\n",
    "cars.seller=cars.seller.replace(['Privat', 'Händler'],['Private', 'Retailer'])\n",
    "cars.seller.count()"
   ]
  },
  {
   "cell_type": "code",
   "execution_count": 26,
   "id": "d42ea432-0b46-480f-bf58-c1047b488955",
   "metadata": {},
   "outputs": [
    {
     "data": {
      "text/plain": [
       "array(['Opel ', 'Audi ', 'Renault ', 'Toyota ', 'Ford ', 'Skoda ',\n",
       "       'Mercedes-Benz ', 'Volkswagen ', 'BMW ', 'Porsche '], dtype=object)"
      ]
     },
     "execution_count": 26,
     "metadata": {},
     "output_type": "execute_result"
    }
   ],
   "source": [
    "# checking for missing information in brand column\n",
    "# checking if the dataset has only the TOP 10 brands\n",
    "\n",
    "cars.brand.isna().value_counts()\n",
    "cars.brand.count()\n",
    "cars.brand.unique()"
   ]
  },
  {
   "cell_type": "code",
   "execution_count": 27,
   "id": "9ee44aac-03f7-4b6c-8ba4-1b37e1d8b40e",
   "metadata": {},
   "outputs": [
    {
     "data": {
      "text/plain": [
       "17092"
      ]
     },
     "execution_count": 27,
     "metadata": {},
     "output_type": "execute_result"
    }
   ],
   "source": [
    "# checking for the missing values in model column\n",
    "# dropping the rows if the count is less\n",
    "\n",
    "cars.model.isna().value_counts()\n",
    "cars.dropna(subset=['model'], inplace=True)\n",
    "cars.model.count()"
   ]
  },
  {
   "cell_type": "code",
   "execution_count": null,
   "id": "cbac268e-a5fe-4538-8c20-2ededbf64cb8",
   "metadata": {},
   "outputs": [],
   "source": [
    "# checking for the missing values in model_details column\n",
    "\n",
    "cars.model_details.isna().value_counts()\n",
    "cars.model_details.count()"
   ]
  },
  {
   "cell_type": "code",
   "execution_count": 28,
   "id": "f88c980f-675c-4651-9d2f-e14a4066a411",
   "metadata": {},
   "outputs": [
    {
     "data": {
      "text/html": [
       "<div>\n",
       "<style scoped>\n",
       "    .dataframe tbody tr th:only-of-type {\n",
       "        vertical-align: middle;\n",
       "    }\n",
       "\n",
       "    .dataframe tbody tr th {\n",
       "        vertical-align: top;\n",
       "    }\n",
       "\n",
       "    .dataframe thead th {\n",
       "        text-align: right;\n",
       "    }\n",
       "</style>\n",
       "<table border=\"1\" class=\"dataframe\">\n",
       "  <thead>\n",
       "    <tr style=\"text-align: right;\">\n",
       "      <th></th>\n",
       "      <th>car_brand</th>\n",
       "      <th>body_type</th>\n",
       "      <th>condition</th>\n",
       "      <th>num_seats</th>\n",
       "      <th>num_doors</th>\n",
       "      <th>mileage</th>\n",
       "      <th>first_reg</th>\n",
       "      <th>power_kW</th>\n",
       "      <th>transmission</th>\n",
       "      <th>displacement</th>\n",
       "      <th>...</th>\n",
       "      <th>fuel_eff</th>\n",
       "      <th>color</th>\n",
       "      <th>seller</th>\n",
       "      <th>brand</th>\n",
       "      <th>model</th>\n",
       "      <th>model_details</th>\n",
       "      <th>price</th>\n",
       "      <th>year_built</th>\n",
       "      <th>num_owners</th>\n",
       "      <th>co2_emission_gpkm</th>\n",
       "    </tr>\n",
       "  </thead>\n",
       "  <tbody>\n",
       "  </tbody>\n",
       "</table>\n",
       "<p>0 rows × 21 columns</p>\n",
       "</div>"
      ],
      "text/plain": [
       "Empty DataFrame\n",
       "Columns: [car_brand, body_type, condition, num_seats, num_doors, mileage, first_reg, power_kW, transmission, displacement, fuel, fuel_eff, color, seller, brand, model, model_details, price, year_built, num_owners, co2_emission_gpkm]\n",
       "Index: []\n",
       "\n",
       "[0 rows x 21 columns]"
      ]
     },
     "execution_count": 28,
     "metadata": {},
     "output_type": "execute_result"
    }
   ],
   "source": [
    "# checking for the missing values in price column\n",
    "\n",
    "cars.price.isna().value_counts()\n",
    "cars[cars.price == 0]"
   ]
  },
  {
   "cell_type": "code",
   "execution_count": 29,
   "id": "2a88e95d-8d41-4a65-9e5b-a09c32377fbf",
   "metadata": {},
   "outputs": [
    {
     "data": {
      "text/html": [
       "<div>\n",
       "<style scoped>\n",
       "    .dataframe tbody tr th:only-of-type {\n",
       "        vertical-align: middle;\n",
       "    }\n",
       "\n",
       "    .dataframe tbody tr th {\n",
       "        vertical-align: top;\n",
       "    }\n",
       "\n",
       "    .dataframe thead th {\n",
       "        text-align: right;\n",
       "    }\n",
       "</style>\n",
       "<table border=\"1\" class=\"dataframe\">\n",
       "  <thead>\n",
       "    <tr style=\"text-align: right;\">\n",
       "      <th></th>\n",
       "      <th>car_brand</th>\n",
       "      <th>body_type</th>\n",
       "      <th>condition</th>\n",
       "      <th>num_seats</th>\n",
       "      <th>num_doors</th>\n",
       "      <th>mileage</th>\n",
       "      <th>first_reg</th>\n",
       "      <th>power_kW</th>\n",
       "      <th>transmission</th>\n",
       "      <th>displacement</th>\n",
       "      <th>...</th>\n",
       "      <th>fuel_eff</th>\n",
       "      <th>color</th>\n",
       "      <th>seller</th>\n",
       "      <th>brand</th>\n",
       "      <th>model</th>\n",
       "      <th>model_details</th>\n",
       "      <th>price</th>\n",
       "      <th>year_built</th>\n",
       "      <th>num_owners</th>\n",
       "      <th>co2_emission_gpkm</th>\n",
       "    </tr>\n",
       "  </thead>\n",
       "  <tbody>\n",
       "    <tr>\n",
       "      <th>38</th>\n",
       "      <td>skoda</td>\n",
       "      <td>Limousine</td>\n",
       "      <td>Vorführfahrzeug</td>\n",
       "      <td>5</td>\n",
       "      <td>5</td>\n",
       "      <td>7791</td>\n",
       "      <td>06/2021</td>\n",
       "      <td>66</td>\n",
       "      <td>Schaltgetriebe</td>\n",
       "      <td>999.0</td>\n",
       "      <td>...</td>\n",
       "      <td>3,5 kg/100 km (komb.)4,5 kg/100 km (innerorts)...</td>\n",
       "      <td>Grey</td>\n",
       "      <td>Retailer</td>\n",
       "      <td>Skoda</td>\n",
       "      <td>Scala</td>\n",
       "      <td>Drive 125 1.0 TGI G-TEC LED Klimaautomatik</td>\n",
       "      <td>19790</td>\n",
       "      <td>2020</td>\n",
       "      <td>1</td>\n",
       "      <td>95 g/km (komb.)</td>\n",
       "    </tr>\n",
       "    <tr>\n",
       "      <th>85</th>\n",
       "      <td>skoda</td>\n",
       "      <td>Limousine</td>\n",
       "      <td>Vorführfahrzeug</td>\n",
       "      <td>5</td>\n",
       "      <td>5</td>\n",
       "      <td>6600</td>\n",
       "      <td>01/2021</td>\n",
       "      <td>81</td>\n",
       "      <td>Schaltgetriebe</td>\n",
       "      <td>999.0</td>\n",
       "      <td>...</td>\n",
       "      <td>4,7 l/100 km (komb.)5,7 l/100 km (innerorts)4,...</td>\n",
       "      <td>Black</td>\n",
       "      <td>Retailer</td>\n",
       "      <td>Skoda</td>\n",
       "      <td>Fabia</td>\n",
       "      <td>Best of Drive 125 1.0 TSI Navi ACC PDCv+h</td>\n",
       "      <td>18990</td>\n",
       "      <td>2020</td>\n",
       "      <td>1</td>\n",
       "      <td>107 g/km (komb.)</td>\n",
       "    </tr>\n",
       "    <tr>\n",
       "      <th>87</th>\n",
       "      <td>skoda</td>\n",
       "      <td>Smallcar</td>\n",
       "      <td>Vorführfahrzeug</td>\n",
       "      <td>5</td>\n",
       "      <td>5</td>\n",
       "      <td>9900</td>\n",
       "      <td>02/2021</td>\n",
       "      <td>70</td>\n",
       "      <td>Schaltgetriebe</td>\n",
       "      <td>999.0</td>\n",
       "      <td>...</td>\n",
       "      <td>4,7 l/100 km (komb.)5,8 l/100 km (innerorts)4 ...</td>\n",
       "      <td>Silver</td>\n",
       "      <td>Retailer</td>\n",
       "      <td>Skoda</td>\n",
       "      <td>Fabia</td>\n",
       "      <td>Best Of Clever 1.0 TSI ACC NAVI LED Pano</td>\n",
       "      <td>18790</td>\n",
       "      <td>2020</td>\n",
       "      <td>1</td>\n",
       "      <td>107 g/km (komb.)</td>\n",
       "    </tr>\n",
       "    <tr>\n",
       "      <th>94</th>\n",
       "      <td>skoda</td>\n",
       "      <td>Limousine</td>\n",
       "      <td>Tageszulassung</td>\n",
       "      <td>5</td>\n",
       "      <td>5</td>\n",
       "      <td>10</td>\n",
       "      <td>08/2021</td>\n",
       "      <td>70</td>\n",
       "      <td>Automatik</td>\n",
       "      <td>999.0</td>\n",
       "      <td>...</td>\n",
       "      <td>4,6 l/100 km (komb.)5,8 l/100 km (innerorts)3,...</td>\n",
       "      <td>White</td>\n",
       "      <td>Retailer</td>\n",
       "      <td>Skoda</td>\n",
       "      <td>Fabia</td>\n",
       "      <td>1.0 TSI Style DSG Rückfahrkamera Klima</td>\n",
       "      <td>19950</td>\n",
       "      <td>2020</td>\n",
       "      <td>1</td>\n",
       "      <td>109 g/km (komb.)</td>\n",
       "    </tr>\n",
       "    <tr>\n",
       "      <th>106</th>\n",
       "      <td>skoda</td>\n",
       "      <td>Smallcar</td>\n",
       "      <td>Vorführfahrzeug</td>\n",
       "      <td>5</td>\n",
       "      <td>5</td>\n",
       "      <td>7477</td>\n",
       "      <td>02/2021</td>\n",
       "      <td>81</td>\n",
       "      <td>Schaltgetriebe</td>\n",
       "      <td>999.0</td>\n",
       "      <td>...</td>\n",
       "      <td>4,7 l/100 km (komb.)5,6 l/100 km (innerorts)4,...</td>\n",
       "      <td>Grey</td>\n",
       "      <td>Retailer</td>\n",
       "      <td>Skoda</td>\n",
       "      <td>Fabia</td>\n",
       "      <td>Monte Carlo 1.0 TSI LED Navi Panorama LED-Tagf...</td>\n",
       "      <td>19290</td>\n",
       "      <td>2020</td>\n",
       "      <td>1</td>\n",
       "      <td>107 g/km (komb.)</td>\n",
       "    </tr>\n",
       "    <tr>\n",
       "      <th>...</th>\n",
       "      <td>...</td>\n",
       "      <td>...</td>\n",
       "      <td>...</td>\n",
       "      <td>...</td>\n",
       "      <td>...</td>\n",
       "      <td>...</td>\n",
       "      <td>...</td>\n",
       "      <td>...</td>\n",
       "      <td>...</td>\n",
       "      <td>...</td>\n",
       "      <td>...</td>\n",
       "      <td>...</td>\n",
       "      <td>...</td>\n",
       "      <td>...</td>\n",
       "      <td>...</td>\n",
       "      <td>...</td>\n",
       "      <td>...</td>\n",
       "      <td>...</td>\n",
       "      <td>...</td>\n",
       "      <td>...</td>\n",
       "      <td>...</td>\n",
       "    </tr>\n",
       "    <tr>\n",
       "      <th>19194</th>\n",
       "      <td>audi</td>\n",
       "      <td>Limousine</td>\n",
       "      <td>Vorführfahrzeug</td>\n",
       "      <td>5</td>\n",
       "      <td>4</td>\n",
       "      <td>8000</td>\n",
       "      <td>10/2021</td>\n",
       "      <td>228</td>\n",
       "      <td>Automatik</td>\n",
       "      <td>1984.0</td>\n",
       "      <td>...</td>\n",
       "      <td>7,4 l/100 km (komb.)9,1 l/100 km (innerorts)6,...</td>\n",
       "      <td>Blue</td>\n",
       "      <td>Retailer</td>\n",
       "      <td>Audi</td>\n",
       "      <td>S3</td>\n",
       "      <td>Sportback TFSI S tronic HUD Navi B+O Leder Pano</td>\n",
       "      <td>64210</td>\n",
       "      <td>2022</td>\n",
       "      <td>1</td>\n",
       "      <td>170 g/km (komb.)</td>\n",
       "    </tr>\n",
       "    <tr>\n",
       "      <th>19204</th>\n",
       "      <td>mercedes-benz</td>\n",
       "      <td>Coupe</td>\n",
       "      <td>Jahreswagen</td>\n",
       "      <td>5</td>\n",
       "      <td>5</td>\n",
       "      <td>23392</td>\n",
       "      <td>01/2021</td>\n",
       "      <td>190</td>\n",
       "      <td>Automatik</td>\n",
       "      <td>1991.0</td>\n",
       "      <td>...</td>\n",
       "      <td>7,4 l/100 km (komb.)9,5 l/100 km (innerorts)6,...</td>\n",
       "      <td>Black</td>\n",
       "      <td>Retailer</td>\n",
       "      <td>Mercedes-Benz</td>\n",
       "      <td>GLC 300</td>\n",
       "      <td>4M AMG/MBUX/SHD/KeyG/Standheizung/Burmes Navi/LED</td>\n",
       "      <td>68630</td>\n",
       "      <td>2020</td>\n",
       "      <td>1</td>\n",
       "      <td>170 g/km (komb.)</td>\n",
       "    </tr>\n",
       "    <tr>\n",
       "      <th>19255</th>\n",
       "      <td>volkswagen</td>\n",
       "      <td>Smallcar</td>\n",
       "      <td>Gebraucht</td>\n",
       "      <td>5</td>\n",
       "      <td>4</td>\n",
       "      <td>19690</td>\n",
       "      <td>02/2021</td>\n",
       "      <td>70</td>\n",
       "      <td>Schaltgetriebe</td>\n",
       "      <td>999.0</td>\n",
       "      <td>...</td>\n",
       "      <td>4,6 l/100 km (komb.)5,7 l/100 km (innerorts)4 ...</td>\n",
       "      <td>Orange</td>\n",
       "      <td>Retailer</td>\n",
       "      <td>Volkswagen</td>\n",
       "      <td>Polo</td>\n",
       "      <td>UNITED 1.0 TSI OPF GANZJAHRESREI./NAVI/SITZHEIZ.</td>\n",
       "      <td>19249</td>\n",
       "      <td>2020</td>\n",
       "      <td>1</td>\n",
       "      <td>105 g/km (komb.)</td>\n",
       "    </tr>\n",
       "    <tr>\n",
       "      <th>19267</th>\n",
       "      <td>audi</td>\n",
       "      <td>Coupe</td>\n",
       "      <td>Jahreswagen</td>\n",
       "      <td>5</td>\n",
       "      <td>4</td>\n",
       "      <td>7900</td>\n",
       "      <td>07/2021</td>\n",
       "      <td>120</td>\n",
       "      <td>Automatik</td>\n",
       "      <td>1968.0</td>\n",
       "      <td>...</td>\n",
       "      <td>4,3 l/100 km (komb.)5,1 l/100 km (innerorts)3,...</td>\n",
       "      <td>Green</td>\n",
       "      <td>Retailer</td>\n",
       "      <td>Audi</td>\n",
       "      <td>A5</td>\n",
       "      <td>Sportback S-LINE 35 TDI S-TRONIC AHK.NAVI+VIRT...</td>\n",
       "      <td>49880</td>\n",
       "      <td>2022</td>\n",
       "      <td>1</td>\n",
       "      <td>113 g/km (komb.)</td>\n",
       "    </tr>\n",
       "    <tr>\n",
       "      <th>19322</th>\n",
       "      <td>mercedes-benz</td>\n",
       "      <td>SUV</td>\n",
       "      <td>Vorführfahrzeug</td>\n",
       "      <td>5</td>\n",
       "      <td>5</td>\n",
       "      <td>14000</td>\n",
       "      <td>12/2021</td>\n",
       "      <td>145</td>\n",
       "      <td>Automatik</td>\n",
       "      <td>1991.0</td>\n",
       "      <td>...</td>\n",
       "      <td>7,4 l/100 km (komb.)9,3 l/100 km (innerorts)6,...</td>\n",
       "      <td>Grey</td>\n",
       "      <td>Retailer</td>\n",
       "      <td>Mercedes-Benz</td>\n",
       "      <td>GLC 200</td>\n",
       "      <td>4M AMG+Pano+LED+Kamera+Spur+Totw+Keyless</td>\n",
       "      <td>54350</td>\n",
       "      <td>2022</td>\n",
       "      <td>1</td>\n",
       "      <td>169 g/km (komb.)</td>\n",
       "    </tr>\n",
       "  </tbody>\n",
       "</table>\n",
       "<p>940 rows × 21 columns</p>\n",
       "</div>"
      ],
      "text/plain": [
       "           car_brand  body_type        condition  num_seats  num_doors  \\\n",
       "38             skoda  Limousine  Vorführfahrzeug          5          5   \n",
       "85             skoda  Limousine  Vorführfahrzeug          5          5   \n",
       "87             skoda   Smallcar  Vorführfahrzeug          5          5   \n",
       "94             skoda  Limousine   Tageszulassung          5          5   \n",
       "106            skoda   Smallcar  Vorführfahrzeug          5          5   \n",
       "...              ...        ...              ...        ...        ...   \n",
       "19194           audi  Limousine  Vorführfahrzeug          5          4   \n",
       "19204  mercedes-benz      Coupe      Jahreswagen          5          5   \n",
       "19255     volkswagen   Smallcar        Gebraucht          5          4   \n",
       "19267           audi      Coupe      Jahreswagen          5          4   \n",
       "19322  mercedes-benz        SUV  Vorführfahrzeug          5          5   \n",
       "\n",
       "       mileage first_reg  power_kW    transmission  displacement  ...  \\\n",
       "38        7791   06/2021        66  Schaltgetriebe         999.0  ...   \n",
       "85        6600   01/2021        81  Schaltgetriebe         999.0  ...   \n",
       "87        9900   02/2021        70  Schaltgetriebe         999.0  ...   \n",
       "94          10   08/2021        70       Automatik         999.0  ...   \n",
       "106       7477   02/2021        81  Schaltgetriebe         999.0  ...   \n",
       "...        ...       ...       ...             ...           ...  ...   \n",
       "19194     8000   10/2021       228       Automatik        1984.0  ...   \n",
       "19204    23392   01/2021       190       Automatik        1991.0  ...   \n",
       "19255    19690   02/2021        70  Schaltgetriebe         999.0  ...   \n",
       "19267     7900   07/2021       120       Automatik        1968.0  ...   \n",
       "19322    14000   12/2021       145       Automatik        1991.0  ...   \n",
       "\n",
       "                                                fuel_eff   color    seller  \\\n",
       "38     3,5 kg/100 km (komb.)4,5 kg/100 km (innerorts)...    Grey  Retailer   \n",
       "85     4,7 l/100 km (komb.)5,7 l/100 km (innerorts)4,...   Black  Retailer   \n",
       "87     4,7 l/100 km (komb.)5,8 l/100 km (innerorts)4 ...  Silver  Retailer   \n",
       "94     4,6 l/100 km (komb.)5,8 l/100 km (innerorts)3,...   White  Retailer   \n",
       "106    4,7 l/100 km (komb.)5,6 l/100 km (innerorts)4,...    Grey  Retailer   \n",
       "...                                                  ...     ...       ...   \n",
       "19194  7,4 l/100 km (komb.)9,1 l/100 km (innerorts)6,...    Blue  Retailer   \n",
       "19204  7,4 l/100 km (komb.)9,5 l/100 km (innerorts)6,...   Black  Retailer   \n",
       "19255  4,6 l/100 km (komb.)5,7 l/100 km (innerorts)4 ...  Orange  Retailer   \n",
       "19267  4,3 l/100 km (komb.)5,1 l/100 km (innerorts)3,...   Green  Retailer   \n",
       "19322  7,4 l/100 km (komb.)9,3 l/100 km (innerorts)6,...    Grey  Retailer   \n",
       "\n",
       "                brand    model  \\\n",
       "38             Skoda     Scala   \n",
       "85             Skoda     Fabia   \n",
       "87             Skoda     Fabia   \n",
       "94             Skoda     Fabia   \n",
       "106            Skoda     Fabia   \n",
       "...               ...      ...   \n",
       "19194           Audi        S3   \n",
       "19204  Mercedes-Benz   GLC 300   \n",
       "19255     Volkswagen      Polo   \n",
       "19267           Audi        A5   \n",
       "19322  Mercedes-Benz   GLC 200   \n",
       "\n",
       "                                           model_details  price  year_built  \\\n",
       "38            Drive 125 1.0 TGI G-TEC LED Klimaautomatik  19790        2020   \n",
       "85             Best of Drive 125 1.0 TSI Navi ACC PDCv+h  18990        2020   \n",
       "87              Best Of Clever 1.0 TSI ACC NAVI LED Pano  18790        2020   \n",
       "94                1.0 TSI Style DSG Rückfahrkamera Klima  19950        2020   \n",
       "106    Monte Carlo 1.0 TSI LED Navi Panorama LED-Tagf...  19290        2020   \n",
       "...                                                  ...    ...         ...   \n",
       "19194    Sportback TFSI S tronic HUD Navi B+O Leder Pano  64210        2022   \n",
       "19204  4M AMG/MBUX/SHD/KeyG/Standheizung/Burmes Navi/LED  68630        2020   \n",
       "19255   UNITED 1.0 TSI OPF GANZJAHRESREI./NAVI/SITZHEIZ.  19249        2020   \n",
       "19267  Sportback S-LINE 35 TDI S-TRONIC AHK.NAVI+VIRT...  49880        2022   \n",
       "19322           4M AMG+Pano+LED+Kamera+Spur+Totw+Keyless  54350        2022   \n",
       "\n",
       "       num_owners  co2_emission_gpkm  \n",
       "38              1    95 g/km (komb.)  \n",
       "85              1   107 g/km (komb.)  \n",
       "87              1   107 g/km (komb.)  \n",
       "94              1   109 g/km (komb.)  \n",
       "106             1   107 g/km (komb.)  \n",
       "...           ...                ...  \n",
       "19194           1   170 g/km (komb.)  \n",
       "19204           1   170 g/km (komb.)  \n",
       "19255           1   105 g/km (komb.)  \n",
       "19267           1   113 g/km (komb.)  \n",
       "19322           1   169 g/km (komb.)  \n",
       "\n",
       "[940 rows x 21 columns]"
      ]
     },
     "execution_count": 29,
     "metadata": {},
     "output_type": "execute_result"
    }
   ],
   "source": [
    "# checking for the missing values in year_built column\n",
    "# replacing the year 0 with value 2021\n",
    "\n",
    "cars.year_built.isna().value_counts()\n",
    "cars[cars.year_built == 0].count()\n",
    "cars.year_built = cars.year_built.replace(0, 2021)   \n",
    "cars.year_built.count()\n",
    "cars[cars.year_built!=2021]"
   ]
  },
  {
   "cell_type": "code",
   "execution_count": 30,
   "id": "d484ee9a-7183-4b0d-9ce1-1a16f01565fe",
   "metadata": {},
   "outputs": [
    {
     "data": {
      "text/plain": [
       "17092"
      ]
     },
     "execution_count": 30,
     "metadata": {},
     "output_type": "execute_result"
    }
   ],
   "source": [
    "# checking for the missing values in num_owners column\n",
    "\n",
    "cars.num_owners.isna().value_counts()\n",
    "cars[cars.num_owners == 0].count()\n",
    "cars.num_owners = cars.num_owners.replace(0, 1) \n",
    "cars[cars.num_owners == 0].count()\n",
    "cars.num_owners.count()"
   ]
  },
  {
   "cell_type": "code",
   "execution_count": 31,
   "id": "4ef8cf0f-ae1c-4d14-a924-ed375e6db4ee",
   "metadata": {},
   "outputs": [
    {
     "data": {
      "text/plain": [
       "17092"
      ]
     },
     "execution_count": 31,
     "metadata": {},
     "output_type": "execute_result"
    }
   ],
   "source": [
    "# checking for the different fuel types in fuel column\n",
    "\n",
    "cars.fuel.unique()\n",
    "cars.fuel.value_counts()\n",
    "cars.fuel.count()"
   ]
  },
  {
   "cell_type": "code",
   "execution_count": 33,
   "id": "2339b779-fdcb-41eb-85d5-264a042e86c2",
   "metadata": {},
   "outputs": [],
   "source": [
    "# categorising and replacing the fuel types and names respectively\n",
    "\n",
    "cars.replace('Diesel (Partikelfilter)','Diesel_PF',inplace=True)\n",
    "cars.replace('Super 95','Super95',inplace=True)\n",
    "cars.replace('Normal/Benzin 91','Super95_91',inplace=True)\n",
    "#cars.replace('Diesel','Diesel',inplace=True)\n",
    "cars.replace('Super 95 (Partikelfilter)','Super95_PF',inplace=True)\n",
    "cars.replace('Super E10 95','Super95_E10',inplace=True)\n",
    "cars.replace('Super E10 95 (Partikelfilter)','Super95_E10_PF',inplace=True)\n",
    "cars.replace('Normal/Benzin 91 (Partikelfilter)','Super95_91_PF',inplace=True)\n",
    "cars.replace('Benzin','Super95',inplace=True)\n",
    "cars.replace('Normal/Benzin E10 91','Super95_E10_91',inplace=True)\n",
    "cars.replace('Super Plus 98','Super98',inplace=True)\n",
    "cars.replace('Super Plus E10 98','Super98_E10',inplace=True)\n",
    "cars.replace('Benzin (Partikelfilter)','Super95_PF',inplace=True)\n",
    "cars.replace('Super Plus E10 98 (Partikelfilter)','Super98_E10_PF',inplace=True)\n",
    "cars.replace('Super Plus 98 (Partikelfilter)','Super98_PF',inplace=True)\n",
    "cars.replace('Normal/Benzin E10 91 (Partikelfilter)','Super91E10_PF',inplace=True)\n",
    "cars.replace('Flüssiggas/Autogas (LPG)','Lpg',inplace=True)\n",
    "cars.replace('Erdgas H','Erdgas',inplace=True)\n",
    "cars.replace('Elektro','Elektro',inplace=True)\n",
    "cars.replace('Biodiesel (Partikelfilter)','Biodiesel',inplace=True)\n",
    "cars.replace('Erdgas L','Erdgas',inplace=True)\n",
    "cars.replace('Flüssiggas/Autogas (LPG) / Super E10 95 / Super Plus E10 98 / Super 95 / Super Plus 98','Lpg',inplace=True)\n",
    "cars.replace('Super 95 / Super Plus 98 / Flüssiggas/Autogas (LPG)','Lpg',inplace=True)\n",
    "cars.replace('Flüssiggas/Autogas (LPG) / Super 95','Lpg',inplace=True)\n",
    "cars.replace('Sonstige (Partikelfilter)','Super95',inplace=True)\n",
    "cars.replace('Biogas/Bio-Erdgas','Naturalgas',inplace=True)\n",
    "cars.replace('Diesel (Partikelfilter) / Ethanolkraftstoff 85 / Biodiesel','Biodiesel',inplace=True)\n",
    "cars.replace('Sonstige','Super95',inplace=True)   \n"
   ]
  },
  {
   "cell_type": "code",
   "execution_count": 34,
   "id": "f5f7d75c-3cf0-4f00-a868-10a27c3eab85",
   "metadata": {},
   "outputs": [
    {
     "data": {
      "text/plain": [
       "17082"
      ]
     },
     "execution_count": 34,
     "metadata": {},
     "output_type": "execute_result"
    }
   ],
   "source": [
    "# translating and replacing the names in condition column\n",
    "\n",
    "cars.condition.value_counts()\n",
    "cars.condition = cars.condition.replace(['Gebraucht', 'Jahreswagen', 'Vorführfahrzeug', 'Tageszulassung', 'Neu'], ['Used_cars', 'Annual_cars', 'Demonstration_cars', 'One_day_registered_cars', 'New'])\n",
    "cars.drop(cars.loc[cars['condition']=='New'].index, inplace=True)\n",
    "cars.condition.value_counts()\n",
    "cars.condition.count()"
   ]
  },
  {
   "cell_type": "code",
   "execution_count": 35,
   "id": "6381d39b-4c8c-4553-b0e7-49ff99ad411e",
   "metadata": {},
   "outputs": [
    {
     "data": {
      "text/plain": [
       "16345"
      ]
     },
     "execution_count": 35,
     "metadata": {},
     "output_type": "execute_result"
    }
   ],
   "source": [
    "# checking for missing information in fuel_eff column\n",
    "# dropping the rows that are very less in count\n",
    "\n",
    "cars.fuel_eff.isna().value_counts()\n",
    "cars.dropna(subset=['fuel_eff'], inplace=True)\n",
    "cars.fuel_eff.count()"
   ]
  },
  {
   "cell_type": "code",
   "execution_count": 36,
   "id": "b93b01fc-d424-4af5-89b1-19fc0ea4598b",
   "metadata": {},
   "outputs": [
    {
     "data": {
      "text/plain": [
       "0        0\n",
       "6        4\n",
       "7        4\n",
       "9        4\n",
       "10       6\n",
       "        ..\n",
       "19327    1\n",
       "19332    5\n",
       "19333    5\n",
       "19334    4\n",
       "19335    5\n",
       "Name: fuel_eff_combi_lpkm, Length: 16345, dtype: int32"
      ]
     },
     "execution_count": 36,
     "metadata": {},
     "output_type": "execute_result"
    }
   ],
   "source": [
    "# in order to split the columns into 3, first removed the units for each category using regex\n",
    "\n",
    "fuel_eff=cars.fuel_eff.str.replace(r\" (l|kg)/100 km \\(komb.\\)\",\";\", regex=True)\n",
    "fuel_eff=fuel_eff.str.replace(r\" (l|kg)/100 km \\(innerorts\\)\",\";\", regex=True)\n",
    "fuel_eff=fuel_eff.str.replace(r\" (l|kg)/100 km \\(außerorts\\)\",\" \", regex=True)\n",
    "\n",
    "# replaced the commas using dots\n",
    "fuel_eff = fuel_eff.str.replace(',', '.')\n",
    "\n",
    "# created 3 new columns by using \".str.split()\" function\n",
    "cars[['fuel_eff_combi_lpkm', 'fuel_eff_city_lpkm', 'fuel_eff_highway_lpkm']] = fuel_eff.str.split(';', expand=True)\n",
    "\n",
    "# tried using fillna() with .astype(int). But as it was string it couldn't convert, and showed some errors.\n",
    "# Hence, replaced the empty spaces with zeros using \".replace()\"\n",
    "cars.fuel_eff_combi_lpkm = cars.fuel_eff_combi_lpkm.replace('', 0)\n",
    "cars.fuel_eff_city_lpkm = cars.fuel_eff_city_lpkm.replace('', 0)\n",
    "cars.fuel_eff_highway_lpkm = cars.fuel_eff_highway_lpkm.replace('', 0)\n",
    "\n",
    "# still this column was showing around 1200 empty spaces. So, used \".fillna()\" to replace those values.\n",
    "cars.fuel_eff_combi_lpkm = cars.fuel_eff_combi_lpkm.fillna(0).astype(float)\n",
    "cars.fuel_eff_city_lpkm = cars.fuel_eff_city_lpkm.fillna(0).astype(float)\n",
    "cars.fuel_eff_highway_lpkm = cars.fuel_eff_highway_lpkm.fillna(0).astype(float)\n",
    "\n",
    "# then replaced the float data type to data type int.\n",
    "cars.fuel_eff_combi_lpkm = cars.fuel_eff_combi_lpkm.fillna(0).astype(int)\n",
    "cars.fuel_eff_city_lpkm = cars.fuel_eff_city_lpkm.fillna(0).astype(int)\n",
    "cars.fuel_eff_highway_lpkm = cars.fuel_eff_highway_lpkm.astype(int)\n",
    "\n",
    "cars.fuel_eff_combi_lpkm"
   ]
  },
  {
   "cell_type": "code",
   "execution_count": 37,
   "id": "0a273551-604a-4c69-ac91-dddbc3ea65c5",
   "metadata": {},
   "outputs": [
    {
     "data": {
      "text/plain": [
       "6        111\n",
       "7         99\n",
       "9        102\n",
       "10       117\n",
       "12        93\n",
       "        ... \n",
       "19327     43\n",
       "19332    117\n",
       "19333    116\n",
       "19334    114\n",
       "19335    132\n",
       "Name: co2_emission_gpkm, Length: 16244, dtype: int32"
      ]
     },
     "execution_count": 37,
     "metadata": {},
     "output_type": "execute_result"
    }
   ],
   "source": [
    "# checking for missing information in co2_emission_gpkm column\n",
    "# dropping the rows that are very less in count\n",
    "# replacing the special characters and symbols using regex\n",
    "\n",
    "cars.co2_emission_gpkm.isna().sum()\n",
    "# 101 missing values, we can drop them.\n",
    "\n",
    "cars.dropna(subset=['co2_emission_gpkm'], inplace=True)\n",
    "\n",
    "cars.co2_emission_gpkm=cars.co2_emission_gpkm.str.replace(r\" g/km \\(komb.\\)\",\";\", regex=True)\n",
    "cars.co2_emission_gpkm=cars.co2_emission_gpkm.str.replace(';', '')\n",
    "\n",
    "cars.co2_emission_gpkm = pd.to_numeric(cars.co2_emission_gpkm, errors='coerce')\n",
    "cars.co2_emission_gpkm=cars.co2_emission_gpkm.astype(int)\n",
    "cars.co2_emission_gpkm"
   ]
  },
  {
   "cell_type": "markdown",
   "id": "ff39ca41-ea81-4826-9340-cb2a562e22cc",
   "metadata": {},
   "source": [
    "### Reading the csv in a new varaible for my easy reference."
   ]
  },
  {
   "cell_type": "code",
   "execution_count": 39,
   "id": "9055b646-3aa3-46c3-991d-31c27a194bdd",
   "metadata": {},
   "outputs": [
    {
     "name": "stdout",
     "output_type": "stream",
     "text": [
      "<class 'pandas.core.frame.DataFrame'>\n",
      "RangeIndex: 16217 entries, 0 to 16216\n",
      "Data columns (total 24 columns):\n",
      " #   Column                 Non-Null Count  Dtype  \n",
      "---  ------                 --------------  -----  \n",
      " 0   car_brand              16217 non-null  object \n",
      " 1   body_type              16217 non-null  object \n",
      " 2   condition              16217 non-null  object \n",
      " 3   num_seats              16217 non-null  int64  \n",
      " 4   num_doors              16217 non-null  int64  \n",
      " 5   mileage                16217 non-null  int64  \n",
      " 6   first_reg              16217 non-null  object \n",
      " 7   power_kW               16217 non-null  int64  \n",
      " 8   transmission           16217 non-null  object \n",
      " 9   displacement           16217 non-null  float64\n",
      " 10  fuel                   16217 non-null  object \n",
      " 11  fuel_eff               16217 non-null  object \n",
      " 12  color                  16217 non-null  object \n",
      " 13  seller                 16217 non-null  object \n",
      " 14  brand                  16217 non-null  object \n",
      " 15  model                  16217 non-null  object \n",
      " 16  model_details          16217 non-null  object \n",
      " 17  price                  16217 non-null  int64  \n",
      " 18  year_built             16217 non-null  int64  \n",
      " 19  num_owners             16217 non-null  int64  \n",
      " 20  co2_emission_gpkm      16217 non-null  int64  \n",
      " 21  fuel_eff_combi_lpkm    16217 non-null  int64  \n",
      " 22  fuel_eff_city_lpkm     16217 non-null  int64  \n",
      " 23  fuel_eff_highway_lpkm  16217 non-null  int64  \n",
      "dtypes: float64(1), int64(11), object(12)\n",
      "memory usage: 3.0+ MB\n"
     ]
    }
   ],
   "source": [
    "cars_new = pd.read_csv('cars_dataset_cleaned.csv', sep= \";\", index_col=None, header=0, engine ='python')\n"
   ]
  },
  {
   "cell_type": "code",
   "execution_count": null,
   "id": "fbb6f8f1-b641-4255-b00e-0df63174959f",
   "metadata": {},
   "outputs": [],
   "source": [
    "cars_new.info()"
   ]
  },
  {
   "cell_type": "markdown",
   "id": "5f3d6ed0-90e1-4dee-bbed-0981e544492e",
   "metadata": {},
   "source": [
    "#### The column \"price” is the target variable and rest of the columns are independent variables.\n",
    "#### The independent variables are again divided into Numerical and Categorical variables."
   ]
  },
  {
   "cell_type": "markdown",
   "id": "f1483f8c-659f-4ac6-af6b-73f8c6dfcfdf",
   "metadata": {},
   "source": [
    "# Numerical"
   ]
  },
  {
   "cell_type": "code",
   "execution_count": null,
   "id": "51431efc-41fb-4218-bf1c-e6e51fc09a7b",
   "metadata": {},
   "outputs": [],
   "source": [
    "cars_new.select_dtypes(exclude=['object'])"
   ]
  },
  {
   "cell_type": "code",
   "execution_count": null,
   "id": "abf92e31-c104-48cc-9881-6229d751d600",
   "metadata": {},
   "outputs": [],
   "source": [
    "cars_new.select_dtypes(exclude=['object']).shape"
   ]
  },
  {
   "cell_type": "markdown",
   "id": "f5eedd16-9dd0-4009-a27e-b1bbfea54d5d",
   "metadata": {},
   "source": [
    "# Categorical"
   ]
  },
  {
   "cell_type": "code",
   "execution_count": null,
   "id": "56f0ec29-83a3-4744-a87b-63df5a716e0e",
   "metadata": {},
   "outputs": [],
   "source": [
    "cars_new.select_dtypes(include=['object']).shape"
   ]
  },
  {
   "cell_type": "code",
   "execution_count": null,
   "id": "3d0d4a06-f14b-459d-a36c-4a9fba499448",
   "metadata": {},
   "outputs": [],
   "source": [
    "cars_new.select_dtypes(include=['object']).isna().sum()"
   ]
  },
  {
   "cell_type": "code",
   "execution_count": null,
   "id": "f7feba4f-2e10-49a4-8ef0-783cfd9a624c",
   "metadata": {},
   "outputs": [],
   "source": [
    "cars_new['price'].describe()"
   ]
  },
  {
   "cell_type": "markdown",
   "id": "35f0f61d-d163-4bb2-9755-a41d9acf556d",
   "metadata": {},
   "source": [
    "##### Now let’s plot Heatmap which is pretty useful to visualise multiple correlations among numerical variables. \n",
    "##### We have also used the Target variable “Price” to understand the correlation of numerical variables with it."
   ]
  },
  {
   "cell_type": "code",
   "execution_count": null,
   "id": "c350ce00-09f3-4d90-8895-ea2aed80baa9",
   "metadata": {},
   "outputs": [],
   "source": [
    "from math import sqrt\n",
    "from sklearn.model_selection import train_test_split\n",
    "from sklearn.impute import SimpleImputer\n",
    "from sklearn.tree import DecisionTreeClassifier\n",
    "from sklearn.metrics import accuracy_score\n",
    "from sklearn.preprocessing import OneHotEncoder\n",
    "from sklearn.compose import ColumnTransformer\n",
    "from sklearn import linear_model\n",
    "from sklearn import preprocessing\n",
    "from sklearn.metrics import mean_absolute_error, mean_squared_error\n",
    "from sklearn.pipeline import make_pipeline, Pipeline"
   ]
  },
  {
   "cell_type": "code",
   "execution_count": null,
   "id": "e4677c0a-c885-4a08-8274-af580dbb7ab1",
   "metadata": {},
   "outputs": [],
   "source": [
    "numeric_cols = cars_new.select_dtypes(include=[np.number])\n",
    "corr = numeric_cols.corr()\n",
    "print('Top ten Correlated Features with Price:'), print(corr['price'].sort_values(ascending = False)[:10], '\\n')\n",
    "print('Top two Uncorrelated Features with Price:'), print(corr['price'].sort_values(ascending = False)[-2:])"
   ]
  },
  {
   "cell_type": "markdown",
   "id": "893e1d42-4669-4565-9112-0b590fea2327",
   "metadata": {},
   "source": [
    "#### Heatmap to show correlation of Numerical and Target variable:"
   ]
  },
  {
   "cell_type": "code",
   "execution_count": null,
   "id": "1b9e0457-c050-41d8-bdcb-c953e4e338f5",
   "metadata": {},
   "outputs": [],
   "source": [
    "# import matplotlib.pyplot as plt\n",
    "# import seaborn as sns\n",
    "\n",
    "# plt.subplots(figsize=(12,8))\n",
    "# corrMatrix = cars_new.select_dtypes(exclude=['object']).corr()\n",
    "# sns.heatmap(corrMatrix, annot=True, cmap='mako')\n",
    "# plt.show()"
   ]
  },
  {
   "cell_type": "markdown",
   "id": "95e86221-f56f-4aba-b88b-4d8fca952c82",
   "metadata": {},
   "source": [
    "##### NOTE: Correlation ranges from -1 to +1. Values closer to zero means there is no linear trend between the two variables. \n",
    "##### The close to 1 the correlation is the more positively correlated they are; \n",
    "##### that is as one increases so does the other and the closer to 1 the stronger this relationship is."
   ]
  },
  {
   "cell_type": "markdown",
   "id": "3547c2fe-913c-4b77-ad07-09d63927c1f6",
   "metadata": {},
   "source": [
    "### Plotting scatter plot to check the correlated features with the 'price'"
   ]
  },
  {
   "cell_type": "code",
   "execution_count": null,
   "id": "34e1432d-69c0-4db4-9a5d-ca80f57153b1",
   "metadata": {},
   "outputs": [],
   "source": [
    "# %matplotlib inline\n",
    "# plt.style.use('ggplot')\n",
    "# plt.rcParams['figure.figsize'] = (15, 5)"
   ]
  },
  {
   "cell_type": "code",
   "execution_count": null,
   "id": "8b7898fa-2613-45ad-8b76-368544de785f",
   "metadata": {},
   "outputs": [],
   "source": [
    "# plt.scatter(x = cars_new['power_kW'], y = cars_new['price'])\n",
    "# plt.ylabel('price')\n",
    "# plt.xlabel('power_kW')"
   ]
  },
  {
   "cell_type": "code",
   "execution_count": null,
   "id": "d594d475-4d23-4fbc-bcbb-af67b95a45c6",
   "metadata": {},
   "outputs": [],
   "source": [
    "# plt.scatter(x = cars_new['displacement'], y = cars_new['price'])\n",
    "# plt.ylabel('price')\n",
    "# plt.xlabel('displacement')"
   ]
  },
  {
   "cell_type": "code",
   "execution_count": null,
   "id": "60564d3d-2117-4ec9-8d61-0c8862d1031e",
   "metadata": {},
   "outputs": [],
   "source": []
  }
 ],
 "metadata": {
  "kernelspec": {
   "display_name": "Python 3 (ipykernel)",
   "language": "python",
   "name": "python3"
  },
  "language_info": {
   "codemirror_mode": {
    "name": "ipython",
    "version": 3
   },
   "file_extension": ".py",
   "mimetype": "text/x-python",
   "name": "python",
   "nbconvert_exporter": "python",
   "pygments_lexer": "ipython3",
   "version": "3.9.7"
  }
 },
 "nbformat": 4,
 "nbformat_minor": 5
}
